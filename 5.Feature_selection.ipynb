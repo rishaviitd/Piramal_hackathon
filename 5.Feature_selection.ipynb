{
 "cells": [
  {
   "cell_type": "markdown",
   "metadata": {},
   "source": [
    "### In this notebook PCA (Principal Component Analysis) and the checking the relationship betweeen traget varibles and PCA features using MI (Mutal Information)"
   ]
  },
  {
   "cell_type": "code",
   "execution_count": null,
   "metadata": {},
   "outputs": [],
   "source": [
    "import pandas as pd\n",
    "df_train=pd.read_csv(\"feature_generated.csv\")"
   ]
  },
  {
   "cell_type": "code",
   "execution_count": 28,
   "metadata": {},
   "outputs": [
    {
     "name": "stdout",
     "output_type": "stream",
     "text": [
      "['HIGH_CREDIT_OR_SANCTIONED_AMOUNT', 'MONTH_OPENED', 'CURRENT_BALANCE', 'ACTUAL_PAYMT_AMT', 'REPAYMENT_TENURE']\n"
     ]
    }
   ],
   "source": [
    "import pandas as pd\n",
    "from sklearn.decomposition import PCA\n",
    "from sklearn.preprocessing import StandardScaler\n",
    "from sklearn.compose import ColumnTransformer\n",
    "from sklearn.pipeline import Pipeline\n",
    "\n",
    "# Assuming df_train is your DataFrame\n",
    "df = df_train.copy()\n",
    "df = df.drop(columns=['ACTUAL_ROI', 'ID', 'PAYMENT_HISTORY_1'])\n",
    "\n",
    "# Separate numerical and categorical features\n",
    "numerical_features = df.select_dtypes(include=['float64', 'int64']).columns\n",
    "\n",
    "# Create transformer for numerical features\n",
    "numerical_transformer = StandardScaler()\n",
    "\n",
    "# Combine transformer\n",
    "preprocessor = ColumnTransformer(\n",
    "    transformers=[\n",
    "        ('num', numerical_transformer, numerical_features)\n",
    "    ])\n",
    "\n",
    "pca = PCA(n_components=5)  # Set n_components to 10 for top 10 features\n",
    "pipeline = Pipeline(steps=[('preprocessor', preprocessor), ('pca', pca)])\n",
    "X_pca = pipeline.fit_transform(df)\n",
    "feature_names = list(preprocessor.named_transformers_['num'].get_feature_names_out(numerical_features))\n",
    "top_10_feature_names = [f'{feature_names[i]}' for i in range(5)]\n",
    "df_pca = pd.DataFrame(data=X_pca, columns=top_10_feature_names)\n",
    "print(top_10_feature_names)"
   ]
  },
  {
   "cell_type": "code",
   "execution_count": 18,
   "metadata": {},
   "outputs": [
    {
     "data": {
      "text/plain": [
       "['HIGH_CREDIT_OR_SANCTIONED_AMOUNT',\n",
       " 'MONTH_OPENED',\n",
       " 'CURRENT_BALANCE',\n",
       " 'ACTUAL_PAYMT_AMT',\n",
       " 'REPAYMENT_TENURE',\n",
       " 'AMOUNT_OVERDUE',\n",
       " 'COLLATERALVALUE',\n",
       " 'TU_SCORE',\n",
       " 'MONTH_PAYMENT_HISTORY_START',\n",
       " 'MONTH_PAYMENT_HISTORY_END',\n",
       " 'MONTH_CERTIFIED',\n",
       " 'MONTH_LAST_PAYMENT',\n",
       " 'AGE',\n",
       " 'COUNT_PAID',\n",
       " 'COUNT_LATE',\n",
       " 'COUNT_MORE_THAN_90',\n",
       " 'COUNT_0_TO_60',\n",
       " 'AVG_DAYS',\n",
       " 'COUNT_MISSING_DAYS',\n",
       " 'PERSONAL_LOANS',\n",
       " 'PROPERTY_LOANS',\n",
       " 'BUSINESS_LOANS',\n",
       " 'GOLD_LOANS',\n",
       " 'HOUSING_LOANS',\n",
       " 'KISAN_CREDIT_CARD_LOANS',\n",
       " 'EDUCATION_LOANS',\n",
       " 'CLOSED_PERSONAL_LOANS',\n",
       " 'CLOSED_PROPERTY_LOANS',\n",
       " 'CLOSED_BUSINESS_LOANS',\n",
       " 'CLOSED_GOLD_LOANS',\n",
       " 'CLOSED_HOUSING_LOANS',\n",
       " 'CLOSED_KISAN_CREDIT_CARD_LOANS',\n",
       " 'CLOSED_EDUCATION_LOANS',\n",
       " 'PROPERTY_LOANS_PAID_SUM',\n",
       " 'BUSINESS_LOANS_PAID_SUM',\n",
       " 'GOLD_LOANS_PAID_SUM',\n",
       " 'HOUSING_LOANS_PAID_SUM',\n",
       " 'PERSONAL_LOANS_PAID_SUM',\n",
       " 'KISAN_CREDIT_CARD_LOANS_PAID_SUM',\n",
       " 'EDUCATION_LOANS_PAID_SUM',\n",
       " 'PERSONAL_LOANS_SUM',\n",
       " 'PROPERTY_LOANS_SUM',\n",
       " 'BUSINESS_LOANS_SUM',\n",
       " 'GOLD_LOANS_SUM',\n",
       " 'HOUSING_LOANS_SUM',\n",
       " 'KISAN_CREDIT_CARD_LOANS_SUM',\n",
       " 'EDUCATION_LOANS_SUM',\n",
       " 'PERSONAL_LOANS_UNCLOSED_SUM',\n",
       " 'PROPERTY_LOANS_UNCLOSED_SUM',\n",
       " 'BUSINESS_LOANS_UNCLOSED_SUM',\n",
       " 'GOLD_LOANS_UNCLOSED_SUM',\n",
       " 'HOUSING_LOANS_UNCLOSED_SUM',\n",
       " 'KISAN_CREDIT_CARD_UNCLOSED_SUM',\n",
       " 'EDUCATION_LOANS_UNCLOSED_SUM',\n",
       " 'ALL_LOANS_COUNT',\n",
       " 'ACCOUNT_TYPE_Business Loan',\n",
       " 'ACCOUNT_TYPE_Housing Loan',\n",
       " 'ACCOUNT_TYPE_Personal Loan',\n",
       " 'ACCOUNT_TYPE_Property Loan',\n",
       " 'OWNERSHIP_TYPE_Individual',\n",
       " 'OWNERSHIP_TYPE_Joint',\n",
       " 'OCCUPATION_TYPE_OTHERS',\n",
       " 'OCCUPATION_TYPE_SALARIED',\n",
       " 'OCCUPATION_TYPE_SENP',\n",
       " 'OCCUPATION_TYPE_SEP',\n",
       " 'GENDER_Female',\n",
       " 'GENDER_Male',\n",
       " 'GENDER_Other']"
      ]
     },
     "execution_count": 18,
     "metadata": {},
     "output_type": "execute_result"
    }
   ],
   "source": [
    "feature_names"
   ]
  },
  {
   "cell_type": "code",
   "execution_count": 3,
   "metadata": {},
   "outputs": [],
   "source": [
    "numerical_df = df_train.select_dtypes(exclude=['O'])\n",
    "X = numerical_df.drop(['ACTUAL_ROI'], axis=1)\n",
    "y = numerical_df['ACTUAL_ROI']"
   ]
  },
  {
   "cell_type": "code",
   "execution_count": 5,
   "metadata": {},
   "outputs": [
    {
     "name": "stdout",
     "output_type": "stream",
     "text": [
      "                             Feature  MI Score\n",
      "1                       MONTH_OPENED  1.182431\n",
      "4                   REPAYMENT_TENURE  1.063858\n",
      "0   HIGH_CREDIT_OR_SANCTIONED_AMOUNT  0.811806\n",
      "9          MONTH_PAYMENT_HISTORY_END  0.781448\n",
      "6                    COLLATERALVALUE  0.647331\n",
      "2                    CURRENT_BALANCE  0.638463\n",
      "3                   ACTUAL_PAYMT_AMT  0.564808\n",
      "18                COUNT_MISSING_DAYS  0.519224\n",
      "13                        COUNT_PAID  0.404506\n",
      "44                 HOUSING_LOANS_SUM  0.390324\n",
      "51        HOUSING_LOANS_UNCLOSED_SUM  0.385534\n",
      "23                     HOUSING_LOANS  0.367155\n",
      "7                           TU_SCORE  0.213631\n",
      "47       PERSONAL_LOANS_UNCLOSED_SUM  0.186493\n",
      "49       BUSINESS_LOANS_UNCLOSED_SUM  0.174372\n",
      "19                    PERSONAL_LOANS  0.167743\n",
      "42                BUSINESS_LOANS_SUM  0.154487\n",
      "48       PROPERTY_LOANS_UNCLOSED_SUM  0.143074\n",
      "41                PROPERTY_LOANS_SUM  0.132203\n",
      "17                          AVG_DAYS  0.131974\n",
      "12                               AGE  0.126551\n",
      "26             CLOSED_PERSONAL_LOANS  0.114493\n",
      "40                PERSONAL_LOANS_SUM  0.113073\n",
      "54                   ALL_LOANS_COUNT  0.105757\n",
      "21                    BUSINESS_LOANS  0.103333\n",
      "14                        COUNT_LATE  0.093099\n",
      "37           PERSONAL_LOANS_PAID_SUM  0.080468\n",
      "20                    PROPERTY_LOANS  0.078743\n",
      "30              CLOSED_HOUSING_LOANS  0.075999\n",
      "5                     AMOUNT_OVERDUE  0.067531\n",
      "36            HOUSING_LOANS_PAID_SUM  0.063288\n",
      "16                     COUNT_0_TO_60  0.057375\n",
      "15                COUNT_MORE_THAN_90  0.036097\n",
      "34           BUSINESS_LOANS_PAID_SUM  0.027678\n",
      "11                MONTH_LAST_PAYMENT  0.023563\n",
      "28             CLOSED_BUSINESS_LOANS  0.016044\n",
      "33           PROPERTY_LOANS_PAID_SUM  0.013038\n",
      "27             CLOSED_PROPERTY_LOANS  0.007914\n",
      "50           GOLD_LOANS_UNCLOSED_SUM  0.007735\n",
      "43                    GOLD_LOANS_SUM  0.007328\n",
      "45       KISAN_CREDIT_CARD_LOANS_SUM  0.006604\n",
      "35               GOLD_LOANS_PAID_SUM  0.005109\n",
      "10                   MONTH_CERTIFIED  0.003728\n",
      "8        MONTH_PAYMENT_HISTORY_START  0.003331\n",
      "29                 CLOSED_GOLD_LOANS  0.001770\n",
      "52    KISAN_CREDIT_CARD_UNCLOSED_SUM  0.001165\n",
      "25                   EDUCATION_LOANS  0.000419\n",
      "53      EDUCATION_LOANS_UNCLOSED_SUM  0.000000\n",
      "24           KISAN_CREDIT_CARD_LOANS  0.000000\n",
      "46               EDUCATION_LOANS_SUM  0.000000\n",
      "38  KISAN_CREDIT_CARD_LOANS_PAID_SUM  0.000000\n",
      "32            CLOSED_EDUCATION_LOANS  0.000000\n",
      "31    CLOSED_KISAN_CREDIT_CARD_LOANS  0.000000\n",
      "22                        GOLD_LOANS  0.000000\n",
      "39          EDUCATION_LOANS_PAID_SUM  0.000000\n"
     ]
    }
   ],
   "source": [
    "import pandas as pd\n",
    "from sklearn.feature_selection import mutual_info_regression\n",
    "\n",
    "mi_scores = mutual_info_regression(X, y)\n",
    "\n",
    "mi_df = pd.DataFrame({'Feature': X.columns, 'MI Score': mi_scores})\n",
    "\n",
    "mi_df_sorted = mi_df.sort_values(by='MI Score', ascending=False)\n",
    "\n",
    "# Display the sorted DataFrame\n",
    "print(mi_df_sorted)\n"
   ]
  },
  {
   "cell_type": "code",
   "execution_count": null,
   "metadata": {},
   "outputs": [],
   "source": []
  },
  {
   "cell_type": "code",
   "execution_count": null,
   "metadata": {},
   "outputs": [],
   "source": []
  }
 ],
 "metadata": {
  "kernelspec": {
   "display_name": "Python 3",
   "language": "python",
   "name": "python3"
  },
  "language_info": {
   "codemirror_mode": {
    "name": "ipython",
    "version": 3
   },
   "file_extension": ".py",
   "mimetype": "text/x-python",
   "name": "python",
   "nbconvert_exporter": "python",
   "pygments_lexer": "ipython3",
   "version": "3.11.6"
  }
 },
 "nbformat": 4,
 "nbformat_minor": 2
}
